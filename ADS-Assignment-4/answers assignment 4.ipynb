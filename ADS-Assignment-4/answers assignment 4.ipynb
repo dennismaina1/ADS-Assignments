{
 "cells": [
  {
   "cell_type": "markdown",
   "id": "734ead4c",
   "metadata": {},
   "source": [
    "# Question 1"
   ]
  },
  {
   "cell_type": "markdown",
   "id": "d11b178e",
   "metadata": {},
   "source": [
    "2 Demographics popular with the brand\n",
    "\n",
    "based on count of subscibers \n",
    "Male non senior citizen  Subscribers\n",
    "\n",
    "based on monthly charges\n",
    "Female Senior Citizens"
   ]
  },
  {
   "cell_type": "code",
   "execution_count": null,
   "id": "9725ebe7",
   "metadata": {},
   "outputs": [],
   "source": [
    "target marketting to increase customer retention\n",
    "\n",
    "Male non senior citizen subscribers"
   ]
  },
  {
   "cell_type": "markdown",
   "id": "dac1945e",
   "metadata": {},
   "source": [
    "# Question 2 "
   ]
  },
  {
   "cell_type": "code",
   "execution_count": null,
   "id": "2ac76248",
   "metadata": {},
   "outputs": [],
   "source": [
    "Services contributing to higher cost thus higher churn\n",
    "\n",
    "fiber Optic\n",
    "phone service\n",
    "multiple lines\n"
   ]
  },
  {
   "cell_type": "code",
   "execution_count": null,
   "id": "6269df64",
   "metadata": {},
   "outputs": [],
   "source": [
    "contract to reduce churn\n",
    "\n",
    "Two year plan\n",
    "\n"
   ]
  },
  {
   "cell_type": "markdown",
   "id": "037bebf6",
   "metadata": {},
   "source": [
    "# Question 3"
   ]
  },
  {
   "cell_type": "code",
   "execution_count": null,
   "id": "3cd23e3f",
   "metadata": {},
   "outputs": [],
   "source": [
    "payment plans to reduce churn\n",
    "\n",
    "basic 26\n",
    "plus  67\n",
    "premium 97"
   ]
  },
  {
   "cell_type": "code",
   "execution_count": null,
   "id": "51a28f2a",
   "metadata": {},
   "outputs": [],
   "source": [
    "No\n",
    "\n",
    "a higher churn rate is observed when using electronic check"
   ]
  }
 ],
 "metadata": {
  "kernelspec": {
   "display_name": "Python 3 (ipykernel)",
   "language": "python",
   "name": "python3"
  },
  "language_info": {
   "codemirror_mode": {
    "name": "ipython",
    "version": 3
   },
   "file_extension": ".py",
   "mimetype": "text/x-python",
   "name": "python",
   "nbconvert_exporter": "python",
   "pygments_lexer": "ipython3",
   "version": "3.9.7"
  }
 },
 "nbformat": 4,
 "nbformat_minor": 5
}
